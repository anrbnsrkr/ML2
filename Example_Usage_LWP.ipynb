{
 "cells": [
  {
   "cell_type": "code",
   "execution_count": 1,
   "id": "5b5c27cd-4d81-402d-bf04-1bf313983a45",
   "metadata": {},
   "outputs": [],
   "source": [
    "from LWP import LWP\n",
    "import numpy as np\n",
    "from sklearn.model_selection import train_test_split"
   ]
  },
  {
   "cell_type": "code",
   "execution_count": 2,
   "id": "494f7b9d-b2ec-4b2a-9a07-1b6ad327cb29",
   "metadata": {},
   "outputs": [],
   "source": [
    "data = np.load(\"Augmented_Data/part_one_dataset/train_data/1_train_data.npz\")\n",
    "x = data['data']\n",
    "y = data['targets']"
   ]
  },
  {
   "cell_type": "code",
   "execution_count": 3,
   "id": "54546eb3-ca82-494b-bc0b-041bf57b584f",
   "metadata": {},
   "outputs": [],
   "source": [
    "x_train, x_test, y_train, y_test = train_test_split(x,y,test_size=0.2,shuffle=True,random_state=1464345)"
   ]
  },
  {
   "cell_type": "code",
   "execution_count": 4,
   "id": "6f3b078d-2cfc-4055-a9d7-9b5fc18857f7",
   "metadata": {},
   "outputs": [
    {
     "data": {
      "text/plain": [
       "768"
      ]
     },
     "execution_count": 4,
     "metadata": {},
     "output_type": "execute_result"
    }
   ],
   "source": [
    "len(x_train[0])"
   ]
  },
  {
   "cell_type": "code",
   "execution_count": 5,
   "id": "4e8f5759-b8ff-49d0-a74f-a998f8555a27",
   "metadata": {},
   "outputs": [
    {
     "data": {
      "text/plain": [
       "array([0, 8, 6, ..., 5, 4, 0])"
      ]
     },
     "execution_count": 5,
     "metadata": {},
     "output_type": "execute_result"
    }
   ],
   "source": [
    "y_train"
   ]
  },
  {
   "cell_type": "code",
   "execution_count": 6,
   "id": "a06ad11b-5946-4043-b198-858a650990bf",
   "metadata": {},
   "outputs": [],
   "source": [
    "lwp = LWP(numClasses=10,veclen=len(x_train[0]))"
   ]
  },
  {
   "cell_type": "code",
   "execution_count": 7,
   "id": "42bf126a-ed28-4974-b702-38384429e701",
   "metadata": {},
   "outputs": [],
   "source": [
    "lwp.fit(x_train,y_train)"
   ]
  },
  {
   "cell_type": "code",
   "execution_count": 8,
   "id": "79262dc9-f9f6-486f-a97e-85f3e3a9320a",
   "metadata": {},
   "outputs": [
    {
     "data": {
      "text/plain": [
       "0.882"
      ]
     },
     "execution_count": 8,
     "metadata": {},
     "output_type": "execute_result"
    }
   ],
   "source": [
    "lwp.evaluate(x_test,y_test)"
   ]
  },
  {
   "cell_type": "code",
   "execution_count": 9,
   "id": "bbc7250e-37c4-44aa-9bef-38bd16e59621",
   "metadata": {},
   "outputs": [
    {
     "data": {
      "text/plain": [
       "0.896"
      ]
     },
     "execution_count": 9,
     "metadata": {},
     "output_type": "execute_result"
    }
   ],
   "source": [
    "lwp.evaluate(x_train,y_train)"
   ]
  },
  {
   "cell_type": "code",
   "execution_count": 10,
   "id": "38dfe87f-ce4a-45a3-82e6-e0a82927b415",
   "metadata": {},
   "outputs": [],
   "source": [
    "data = np.load(\"Augmented_Data/part_one_dataset/eval_data/4_eval_data.npz\")\n",
    "x = data['data']\n",
    "y = data['targets']"
   ]
  },
  {
   "cell_type": "code",
   "execution_count": 11,
   "id": "5d70319a-e2cb-4ad5-9c3d-9c47e698eba3",
   "metadata": {},
   "outputs": [
    {
     "data": {
      "text/plain": [
       "0.8832"
      ]
     },
     "execution_count": 11,
     "metadata": {},
     "output_type": "execute_result"
    }
   ],
   "source": [
    "lwp.evaluate(x,y)"
   ]
  }
 ],
 "metadata": {
  "kernelspec": {
   "display_name": "Python 3 (ipykernel)",
   "language": "python",
   "name": "python3"
  },
  "language_info": {
   "codemirror_mode": {
    "name": "ipython",
    "version": 3
   },
   "file_extension": ".py",
   "mimetype": "text/x-python",
   "name": "python",
   "nbconvert_exporter": "python",
   "pygments_lexer": "ipython3",
   "version": "3.12.2"
  }
 },
 "nbformat": 4,
 "nbformat_minor": 5
}
